{
 "cells": [
  {
   "cell_type": "code",
   "execution_count": 1,
   "id": "9ea45a7e",
   "metadata": {
    "execution": {
     "iopub.execute_input": "2023-01-25T10:52:38.366777Z",
     "iopub.status.busy": "2023-01-25T10:52:38.365097Z",
     "iopub.status.idle": "2023-01-25T10:52:39.689257Z",
     "shell.execute_reply": "2023-01-25T10:52:39.687299Z"
    },
    "papermill": {
     "duration": 1.337522,
     "end_time": "2023-01-25T10:52:39.693452",
     "exception": false,
     "start_time": "2023-01-25T10:52:38.355930",
     "status": "completed"
    },
    "tags": []
   },
   "outputs": [],
   "source": [
    "#Importing libraries\n",
    "import pandas as pd\n",
    "import numpy as np\n",
    "import matplotlib.pyplot as plt\n",
    "import seaborn as sns"
   ]
  },
  {
   "cell_type": "code",
   "execution_count": 2,
   "id": "c55492ff",
   "metadata": {
    "execution": {
     "iopub.execute_input": "2023-01-25T10:52:39.707328Z",
     "iopub.status.busy": "2023-01-25T10:52:39.706793Z",
     "iopub.status.idle": "2023-01-25T10:52:41.091268Z",
     "shell.execute_reply": "2023-01-25T10:52:41.090032Z"
    },
    "papermill": {
     "duration": 1.395091,
     "end_time": "2023-01-25T10:52:41.094376",
     "exception": false,
     "start_time": "2023-01-25T10:52:39.699285",
     "status": "completed"
    },
    "tags": []
   },
   "outputs": [
    {
     "data": {
      "text/html": [
       "<div>\n",
       "<style scoped>\n",
       "    .dataframe tbody tr th:only-of-type {\n",
       "        vertical-align: middle;\n",
       "    }\n",
       "\n",
       "    .dataframe tbody tr th {\n",
       "        vertical-align: top;\n",
       "    }\n",
       "\n",
       "    .dataframe thead th {\n",
       "        text-align: right;\n",
       "    }\n",
       "</style>\n",
       "<table border=\"1\" class=\"dataframe\">\n",
       "  <thead>\n",
       "    <tr style=\"text-align: right;\">\n",
       "      <th></th>\n",
       "      <th>InvoiceNo</th>\n",
       "      <th>StockCode</th>\n",
       "      <th>Description</th>\n",
       "      <th>Quantity</th>\n",
       "      <th>InvoiceDate</th>\n",
       "      <th>UnitPrice</th>\n",
       "      <th>CustomerID</th>\n",
       "      <th>Country</th>\n",
       "    </tr>\n",
       "  </thead>\n",
       "  <tbody>\n",
       "    <tr>\n",
       "      <th>0</th>\n",
       "      <td>536365</td>\n",
       "      <td>85123A</td>\n",
       "      <td>WHITE HANGING HEART T-LIGHT HOLDER</td>\n",
       "      <td>6</td>\n",
       "      <td>2010-12-01 08:26:00</td>\n",
       "      <td>2.55</td>\n",
       "      <td>17850.0</td>\n",
       "      <td>United Kingdom</td>\n",
       "    </tr>\n",
       "    <tr>\n",
       "      <th>1</th>\n",
       "      <td>536365</td>\n",
       "      <td>71053</td>\n",
       "      <td>WHITE METAL LANTERN</td>\n",
       "      <td>6</td>\n",
       "      <td>2010-12-01 08:26:00</td>\n",
       "      <td>3.39</td>\n",
       "      <td>17850.0</td>\n",
       "      <td>United Kingdom</td>\n",
       "    </tr>\n",
       "    <tr>\n",
       "      <th>2</th>\n",
       "      <td>536365</td>\n",
       "      <td>84406B</td>\n",
       "      <td>CREAM CUPID HEARTS COAT HANGER</td>\n",
       "      <td>8</td>\n",
       "      <td>2010-12-01 08:26:00</td>\n",
       "      <td>2.75</td>\n",
       "      <td>17850.0</td>\n",
       "      <td>United Kingdom</td>\n",
       "    </tr>\n",
       "    <tr>\n",
       "      <th>3</th>\n",
       "      <td>536365</td>\n",
       "      <td>84029G</td>\n",
       "      <td>KNITTED UNION FLAG HOT WATER BOTTLE</td>\n",
       "      <td>6</td>\n",
       "      <td>2010-12-01 08:26:00</td>\n",
       "      <td>3.39</td>\n",
       "      <td>17850.0</td>\n",
       "      <td>United Kingdom</td>\n",
       "    </tr>\n",
       "    <tr>\n",
       "      <th>4</th>\n",
       "      <td>536365</td>\n",
       "      <td>84029E</td>\n",
       "      <td>RED WOOLLY HOTTIE WHITE HEART.</td>\n",
       "      <td>6</td>\n",
       "      <td>2010-12-01 08:26:00</td>\n",
       "      <td>3.39</td>\n",
       "      <td>17850.0</td>\n",
       "      <td>United Kingdom</td>\n",
       "    </tr>\n",
       "  </tbody>\n",
       "</table>\n",
       "</div>"
      ],
      "text/plain": [
       "  InvoiceNo StockCode                          Description  Quantity  \\\n",
       "0    536365    85123A   WHITE HANGING HEART T-LIGHT HOLDER         6   \n",
       "1    536365     71053                  WHITE METAL LANTERN         6   \n",
       "2    536365    84406B       CREAM CUPID HEARTS COAT HANGER         8   \n",
       "3    536365    84029G  KNITTED UNION FLAG HOT WATER BOTTLE         6   \n",
       "4    536365    84029E       RED WOOLLY HOTTIE WHITE HEART.         6   \n",
       "\n",
       "           InvoiceDate  UnitPrice  CustomerID         Country  \n",
       "0  2010-12-01 08:26:00       2.55     17850.0  United Kingdom  \n",
       "1  2010-12-01 08:26:00       3.39     17850.0  United Kingdom  \n",
       "2  2010-12-01 08:26:00       2.75     17850.0  United Kingdom  \n",
       "3  2010-12-01 08:26:00       3.39     17850.0  United Kingdom  \n",
       "4  2010-12-01 08:26:00       3.39     17850.0  United Kingdom  "
      ]
     },
     "execution_count": 2,
     "metadata": {},
     "output_type": "execute_result"
    }
   ],
   "source": [
    "#Loading Data\n",
    "retail = pd.read_csv('/kaggle/input/online-retail-dataset/online_retail.csv')\n",
    "retail.head()"
   ]
  },
  {
   "cell_type": "code",
   "execution_count": 3,
   "id": "f6982d7a",
   "metadata": {
    "execution": {
     "iopub.execute_input": "2023-01-25T10:52:41.107813Z",
     "iopub.status.busy": "2023-01-25T10:52:41.106788Z",
     "iopub.status.idle": "2023-01-25T10:52:41.241677Z",
     "shell.execute_reply": "2023-01-25T10:52:41.239989Z"
    },
    "papermill": {
     "duration": 0.144568,
     "end_time": "2023-01-25T10:52:41.244515",
     "exception": false,
     "start_time": "2023-01-25T10:52:41.099947",
     "status": "completed"
    },
    "tags": []
   },
   "outputs": [
    {
     "data": {
      "text/plain": [
       "InvoiceNo           0\n",
       "StockCode           0\n",
       "Description      1454\n",
       "Quantity            0\n",
       "InvoiceDate         0\n",
       "UnitPrice           0\n",
       "CustomerID     135080\n",
       "Country             0\n",
       "dtype: int64"
      ]
     },
     "execution_count": 3,
     "metadata": {},
     "output_type": "execute_result"
    }
   ],
   "source": [
    "#Checking of null values\n",
    "missing_values_count = retail.isnull().sum()\n",
    "missing_values_count[0:8]"
   ]
  },
  {
   "cell_type": "code",
   "execution_count": 4,
   "id": "409da79e",
   "metadata": {
    "execution": {
     "iopub.execute_input": "2023-01-25T10:52:41.258108Z",
     "iopub.status.busy": "2023-01-25T10:52:41.257674Z",
     "iopub.status.idle": "2023-01-25T10:52:41.264878Z",
     "shell.execute_reply": "2023-01-25T10:52:41.263440Z"
    },
    "papermill": {
     "duration": 0.017843,
     "end_time": "2023-01-25T10:52:41.267920",
     "exception": false,
     "start_time": "2023-01-25T10:52:41.250077",
     "status": "completed"
    },
    "tags": []
   },
   "outputs": [
    {
     "name": "stdout",
     "output_type": "stream",
     "text": [
      "Number of Rows: 541909\n",
      "Number of Columns: 8\n"
     ]
    }
   ],
   "source": [
    "#Checking of rows and Columns\n",
    "rows = len(retail.axes[0])\n",
    "columns = len(retail.axes[1])\n",
    "\n",
    "print(\"Number of Rows:\",rows)\n",
    "print(\"Number of Columns:\",columns)"
   ]
  },
  {
   "cell_type": "markdown",
   "id": "5978951a",
   "metadata": {
    "papermill": {
     "duration": 0.00526,
     "end_time": "2023-01-25T10:52:41.278966",
     "exception": false,
     "start_time": "2023-01-25T10:52:41.273706",
     "status": "completed"
    },
    "tags": []
   },
   "source": [
    "    As you can see, there are 1454 null values in Description Column while CustomerID containts 135080 null values. We gonna replace null values in Description with 'None' and '0' in CustomerID. We cannot have null values especially in customerID because it is important to our transaction analysis. "
   ]
  },
  {
   "cell_type": "code",
   "execution_count": 5,
   "id": "95b95066",
   "metadata": {
    "execution": {
     "iopub.execute_input": "2023-01-25T10:52:41.293323Z",
     "iopub.status.busy": "2023-01-25T10:52:41.292901Z",
     "iopub.status.idle": "2023-01-25T10:52:41.615541Z",
     "shell.execute_reply": "2023-01-25T10:52:41.614224Z"
    },
    "papermill": {
     "duration": 0.333508,
     "end_time": "2023-01-25T10:52:41.618611",
     "exception": false,
     "start_time": "2023-01-25T10:52:41.285103",
     "status": "completed"
    },
    "tags": []
   },
   "outputs": [],
   "source": [
    "#Data Cleaning and Manipulation\n",
    "retail['Description'] = retail['Description'].fillna('None')\n",
    "retail['Description'] = retail['Description'].str.strip()\n",
    "retail['CustomerID'] = retail['CustomerID'].fillna('0')"
   ]
  },
  {
   "cell_type": "code",
   "execution_count": 6,
   "id": "0bd7ddd3",
   "metadata": {
    "execution": {
     "iopub.execute_input": "2023-01-25T10:52:41.631652Z",
     "iopub.status.busy": "2023-01-25T10:52:41.631258Z",
     "iopub.status.idle": "2023-01-25T10:52:41.782641Z",
     "shell.execute_reply": "2023-01-25T10:52:41.781273Z"
    },
    "papermill": {
     "duration": 0.161268,
     "end_time": "2023-01-25T10:52:41.785643",
     "exception": false,
     "start_time": "2023-01-25T10:52:41.624375",
     "status": "completed"
    },
    "tags": []
   },
   "outputs": [
    {
     "data": {
      "text/plain": [
       "InvoiceNo      0\n",
       "StockCode      0\n",
       "Description    0\n",
       "Quantity       0\n",
       "InvoiceDate    0\n",
       "UnitPrice      0\n",
       "CustomerID     0\n",
       "Country        0\n",
       "dtype: int64"
      ]
     },
     "execution_count": 6,
     "metadata": {},
     "output_type": "execute_result"
    }
   ],
   "source": [
    "#Checking of null values\n",
    "missing_values_count = retail.isnull().sum()\n",
    "missing_values_count[0:8]"
   ]
  },
  {
   "cell_type": "markdown",
   "id": "996019f7",
   "metadata": {
    "papermill": {
     "duration": 0.005528,
     "end_time": "2023-01-25T10:52:41.797655",
     "exception": false,
     "start_time": "2023-01-25T10:52:41.792127",
     "status": "completed"
    },
    "tags": []
   },
   "source": [
    "    As you can see, there is no null values anymore. Let's proceed in checking of data types if there are columns that in need of changing the data types. "
   ]
  },
  {
   "cell_type": "code",
   "execution_count": 7,
   "id": "f3019857",
   "metadata": {
    "execution": {
     "iopub.execute_input": "2023-01-25T10:52:41.811475Z",
     "iopub.status.busy": "2023-01-25T10:52:41.811025Z",
     "iopub.status.idle": "2023-01-25T10:52:41.978039Z",
     "shell.execute_reply": "2023-01-25T10:52:41.976587Z"
    },
    "papermill": {
     "duration": 0.179559,
     "end_time": "2023-01-25T10:52:41.983148",
     "exception": false,
     "start_time": "2023-01-25T10:52:41.803589",
     "status": "completed"
    },
    "tags": []
   },
   "outputs": [
    {
     "name": "stdout",
     "output_type": "stream",
     "text": [
      "<class 'pandas.core.frame.DataFrame'>\n",
      "RangeIndex: 541909 entries, 0 to 541908\n",
      "Data columns (total 8 columns):\n",
      " #   Column       Non-Null Count   Dtype  \n",
      "---  ------       --------------   -----  \n",
      " 0   InvoiceNo    541909 non-null  object \n",
      " 1   StockCode    541909 non-null  object \n",
      " 2   Description  541909 non-null  object \n",
      " 3   Quantity     541909 non-null  int64  \n",
      " 4   InvoiceDate  541909 non-null  object \n",
      " 5   UnitPrice    541909 non-null  float64\n",
      " 6   CustomerID   541909 non-null  object \n",
      " 7   Country      541909 non-null  object \n",
      "dtypes: float64(1), int64(1), object(6)\n",
      "memory usage: 33.1+ MB\n"
     ]
    }
   ],
   "source": [
    "#Checking of Dtypes\n",
    "retail.info()"
   ]
  },
  {
   "cell_type": "markdown",
   "id": "a7a1ebd8",
   "metadata": {
    "papermill": {
     "duration": 0.005775,
     "end_time": "2023-01-25T10:52:41.996302",
     "exception": false,
     "start_time": "2023-01-25T10:52:41.990527",
     "status": "completed"
    },
    "tags": []
   },
   "source": [
    "As you can see, the data type of InvoideDate is object and CustomerID is float64. We need to change the InvoiceDate to Datetime in order to extract the Year and Month for our analysis.For the customerID, we need to change it to int in order to remove decimals because there is no decimal in IDs."
   ]
  },
  {
   "cell_type": "code",
   "execution_count": 8,
   "id": "7a97e811",
   "metadata": {
    "execution": {
     "iopub.execute_input": "2023-01-25T10:52:42.009925Z",
     "iopub.status.busy": "2023-01-25T10:52:42.009552Z",
     "iopub.status.idle": "2023-01-25T10:52:47.689470Z",
     "shell.execute_reply": "2023-01-25T10:52:47.687831Z"
    },
    "papermill": {
     "duration": 5.69079,
     "end_time": "2023-01-25T10:52:47.692890",
     "exception": false,
     "start_time": "2023-01-25T10:52:42.002100",
     "status": "completed"
    },
    "tags": []
   },
   "outputs": [],
   "source": [
    "#Data Cleaning and Manipulaton \n",
    "retail['InvoiceDate'] = pd.to_datetime(retail['InvoiceDate'])\n",
    "retail['Year'] = pd.to_datetime(retail['InvoiceDate']).dt.strftime('%Y')\n",
    "retail['Month'] = pd.to_datetime(retail['InvoiceDate']).dt.strftime('%m')\n",
    "retail['CustomerID'] = retail['CustomerID'].astype(int)\n",
    "retail['Total_Sales'] = retail['Quantity']*retail['UnitPrice']\n"
   ]
  },
  {
   "cell_type": "code",
   "execution_count": 9,
   "id": "dc65b222",
   "metadata": {
    "execution": {
     "iopub.execute_input": "2023-01-25T10:52:47.708565Z",
     "iopub.status.busy": "2023-01-25T10:52:47.707396Z",
     "iopub.status.idle": "2023-01-25T10:52:47.872023Z",
     "shell.execute_reply": "2023-01-25T10:52:47.870318Z"
    },
    "papermill": {
     "duration": 0.175101,
     "end_time": "2023-01-25T10:52:47.874904",
     "exception": false,
     "start_time": "2023-01-25T10:52:47.699803",
     "status": "completed"
    },
    "tags": []
   },
   "outputs": [
    {
     "name": "stdout",
     "output_type": "stream",
     "text": [
      "<class 'pandas.core.frame.DataFrame'>\n",
      "RangeIndex: 541909 entries, 0 to 541908\n",
      "Data columns (total 11 columns):\n",
      " #   Column       Non-Null Count   Dtype         \n",
      "---  ------       --------------   -----         \n",
      " 0   InvoiceNo    541909 non-null  object        \n",
      " 1   StockCode    541909 non-null  object        \n",
      " 2   Description  541909 non-null  object        \n",
      " 3   Quantity     541909 non-null  int64         \n",
      " 4   InvoiceDate  541909 non-null  datetime64[ns]\n",
      " 5   UnitPrice    541909 non-null  float64       \n",
      " 6   CustomerID   541909 non-null  int64         \n",
      " 7   Country      541909 non-null  object        \n",
      " 8   Year         541909 non-null  object        \n",
      " 9   Month        541909 non-null  object        \n",
      " 10  Total_Sales  541909 non-null  float64       \n",
      "dtypes: datetime64[ns](1), float64(2), int64(2), object(6)\n",
      "memory usage: 45.5+ MB\n"
     ]
    }
   ],
   "source": [
    "#Checking Dtypes\n",
    "retail.info()"
   ]
  },
  {
   "cell_type": "code",
   "execution_count": 10,
   "id": "387a1ee4",
   "metadata": {
    "execution": {
     "iopub.execute_input": "2023-01-25T10:52:47.890475Z",
     "iopub.status.busy": "2023-01-25T10:52:47.889679Z",
     "iopub.status.idle": "2023-01-25T10:52:47.909458Z",
     "shell.execute_reply": "2023-01-25T10:52:47.907826Z"
    },
    "papermill": {
     "duration": 0.031977,
     "end_time": "2023-01-25T10:52:47.913095",
     "exception": false,
     "start_time": "2023-01-25T10:52:47.881118",
     "status": "completed"
    },
    "tags": []
   },
   "outputs": [
    {
     "data": {
      "text/html": [
       "<div>\n",
       "<style scoped>\n",
       "    .dataframe tbody tr th:only-of-type {\n",
       "        vertical-align: middle;\n",
       "    }\n",
       "\n",
       "    .dataframe tbody tr th {\n",
       "        vertical-align: top;\n",
       "    }\n",
       "\n",
       "    .dataframe thead th {\n",
       "        text-align: right;\n",
       "    }\n",
       "</style>\n",
       "<table border=\"1\" class=\"dataframe\">\n",
       "  <thead>\n",
       "    <tr style=\"text-align: right;\">\n",
       "      <th></th>\n",
       "      <th>InvoiceNo</th>\n",
       "      <th>StockCode</th>\n",
       "      <th>Description</th>\n",
       "      <th>Quantity</th>\n",
       "      <th>InvoiceDate</th>\n",
       "      <th>UnitPrice</th>\n",
       "      <th>CustomerID</th>\n",
       "      <th>Country</th>\n",
       "      <th>Year</th>\n",
       "      <th>Month</th>\n",
       "      <th>Total_Sales</th>\n",
       "    </tr>\n",
       "  </thead>\n",
       "  <tbody>\n",
       "    <tr>\n",
       "      <th>0</th>\n",
       "      <td>536365</td>\n",
       "      <td>85123A</td>\n",
       "      <td>WHITE HANGING HEART T-LIGHT HOLDER</td>\n",
       "      <td>6</td>\n",
       "      <td>2010-12-01 08:26:00</td>\n",
       "      <td>2.55</td>\n",
       "      <td>17850</td>\n",
       "      <td>United Kingdom</td>\n",
       "      <td>2010</td>\n",
       "      <td>12</td>\n",
       "      <td>15.30</td>\n",
       "    </tr>\n",
       "    <tr>\n",
       "      <th>1</th>\n",
       "      <td>536365</td>\n",
       "      <td>71053</td>\n",
       "      <td>WHITE METAL LANTERN</td>\n",
       "      <td>6</td>\n",
       "      <td>2010-12-01 08:26:00</td>\n",
       "      <td>3.39</td>\n",
       "      <td>17850</td>\n",
       "      <td>United Kingdom</td>\n",
       "      <td>2010</td>\n",
       "      <td>12</td>\n",
       "      <td>20.34</td>\n",
       "    </tr>\n",
       "    <tr>\n",
       "      <th>2</th>\n",
       "      <td>536365</td>\n",
       "      <td>84406B</td>\n",
       "      <td>CREAM CUPID HEARTS COAT HANGER</td>\n",
       "      <td>8</td>\n",
       "      <td>2010-12-01 08:26:00</td>\n",
       "      <td>2.75</td>\n",
       "      <td>17850</td>\n",
       "      <td>United Kingdom</td>\n",
       "      <td>2010</td>\n",
       "      <td>12</td>\n",
       "      <td>22.00</td>\n",
       "    </tr>\n",
       "    <tr>\n",
       "      <th>3</th>\n",
       "      <td>536365</td>\n",
       "      <td>84029G</td>\n",
       "      <td>KNITTED UNION FLAG HOT WATER BOTTLE</td>\n",
       "      <td>6</td>\n",
       "      <td>2010-12-01 08:26:00</td>\n",
       "      <td>3.39</td>\n",
       "      <td>17850</td>\n",
       "      <td>United Kingdom</td>\n",
       "      <td>2010</td>\n",
       "      <td>12</td>\n",
       "      <td>20.34</td>\n",
       "    </tr>\n",
       "    <tr>\n",
       "      <th>4</th>\n",
       "      <td>536365</td>\n",
       "      <td>84029E</td>\n",
       "      <td>RED WOOLLY HOTTIE WHITE HEART.</td>\n",
       "      <td>6</td>\n",
       "      <td>2010-12-01 08:26:00</td>\n",
       "      <td>3.39</td>\n",
       "      <td>17850</td>\n",
       "      <td>United Kingdom</td>\n",
       "      <td>2010</td>\n",
       "      <td>12</td>\n",
       "      <td>20.34</td>\n",
       "    </tr>\n",
       "  </tbody>\n",
       "</table>\n",
       "</div>"
      ],
      "text/plain": [
       "  InvoiceNo StockCode                          Description  Quantity  \\\n",
       "0    536365    85123A   WHITE HANGING HEART T-LIGHT HOLDER         6   \n",
       "1    536365     71053                  WHITE METAL LANTERN         6   \n",
       "2    536365    84406B       CREAM CUPID HEARTS COAT HANGER         8   \n",
       "3    536365    84029G  KNITTED UNION FLAG HOT WATER BOTTLE         6   \n",
       "4    536365    84029E       RED WOOLLY HOTTIE WHITE HEART.         6   \n",
       "\n",
       "          InvoiceDate  UnitPrice  CustomerID         Country  Year Month  \\\n",
       "0 2010-12-01 08:26:00       2.55       17850  United Kingdom  2010    12   \n",
       "1 2010-12-01 08:26:00       3.39       17850  United Kingdom  2010    12   \n",
       "2 2010-12-01 08:26:00       2.75       17850  United Kingdom  2010    12   \n",
       "3 2010-12-01 08:26:00       3.39       17850  United Kingdom  2010    12   \n",
       "4 2010-12-01 08:26:00       3.39       17850  United Kingdom  2010    12   \n",
       "\n",
       "   Total_Sales  \n",
       "0        15.30  \n",
       "1        20.34  \n",
       "2        22.00  \n",
       "3        20.34  \n",
       "4        20.34  "
      ]
     },
     "execution_count": 10,
     "metadata": {},
     "output_type": "execute_result"
    }
   ],
   "source": [
    "retail.head()"
   ]
  },
  {
   "cell_type": "markdown",
   "id": "adab54d6",
   "metadata": {
    "papermill": {
     "duration": 0.005745,
     "end_time": "2023-01-25T10:52:47.925110",
     "exception": false,
     "start_time": "2023-01-25T10:52:47.919365",
     "status": "completed"
    },
    "tags": []
   },
   "source": [
    "We are now done in cleaning the dataset, let's proceed to the analysis. "
   ]
  },
  {
   "cell_type": "code",
   "execution_count": 11,
   "id": "ae8b9433",
   "metadata": {
    "execution": {
     "iopub.execute_input": "2023-01-25T10:52:47.940322Z",
     "iopub.status.busy": "2023-01-25T10:52:47.939782Z",
     "iopub.status.idle": "2023-01-25T10:52:48.224248Z",
     "shell.execute_reply": "2023-01-25T10:52:48.222747Z"
    },
    "papermill": {
     "duration": 0.295243,
     "end_time": "2023-01-25T10:52:48.227002",
     "exception": false,
     "start_time": "2023-01-25T10:52:47.931759",
     "status": "completed"
    },
    "tags": []
   },
   "outputs": [
    {
     "data": {
      "text/plain": [
       "Text(0.5, 1.0, 'Top 5 Countries with most sales ')"
      ]
     },
     "execution_count": 11,
     "metadata": {},
     "output_type": "execute_result"
    },
    {
     "data": {
      "image/png": "[encoded data removed]",
      "text/plain": [
       "<Figure size 432x288 with 1 Axes>"
      ]
     },
     "metadata": {
      "needs_background": "light"
     },
     "output_type": "display_data"
    }
   ],
   "source": [
    "#Analysis and Visualization\n",
    "\n",
    "total_sales_per_country = retail.groupby('Country')['Total_Sales'].sum().reset_index().sort_values('Total_Sales',ascending=False)\n",
    "z = sns.barplot(data=total_sales_per_country.head(5), x='Total_Sales',y='Country',palette = 'Blues_r')\n",
    "plt.title(\"Top 5 Countries with most sales \")"
   ]
  },
  {
   "cell_type": "code",
   "execution_count": 12,
   "id": "e4d4515e",
   "metadata": {
    "execution": {
     "iopub.execute_input": "2023-01-25T10:52:48.244329Z",
     "iopub.status.busy": "2023-01-25T10:52:48.243872Z",
     "iopub.status.idle": "2023-01-25T10:52:48.532704Z",
     "shell.execute_reply": "2023-01-25T10:52:48.531427Z"
    },
    "papermill": {
     "duration": 0.300282,
     "end_time": "2023-01-25T10:52:48.535980",
     "exception": false,
     "start_time": "2023-01-25T10:52:48.235698",
     "status": "completed"
    },
    "tags": []
   },
   "outputs": [
    {
     "data": {
      "text/plain": [
       "Text(0.5, 1.0, 'Top 5 Countries with most Customers ')"
      ]
     },
     "execution_count": 12,
     "metadata": {},
     "output_type": "execute_result"
    },
    {
     "data": {
      "image/png": "[encoded data removed]",
      "text/plain": [
       "<Figure size 432x288 with 1 Axes>"
      ]
     },
     "metadata": {
      "needs_background": "light"
     },
     "output_type": "display_data"
    }
   ],
   "source": [
    "total_customer_per_country = retail.groupby('Country')['CustomerID'].count().reset_index().sort_values('CustomerID',ascending=False)\n",
    "z = sns.barplot(data=total_customer_per_country.head(5), x='CustomerID',y='Country',palette = 'Blues_r')\n",
    "plt.title(\"Top 5 Countries with most Customers \")"
   ]
  },
  {
   "cell_type": "code",
   "execution_count": 13,
   "id": "d56de6a3",
   "metadata": {
    "execution": {
     "iopub.execute_input": "2023-01-25T10:52:48.555151Z",
     "iopub.status.busy": "2023-01-25T10:52:48.554628Z",
     "iopub.status.idle": "2023-01-25T10:52:48.802117Z",
     "shell.execute_reply": "2023-01-25T10:52:48.800643Z"
    },
    "papermill": {
     "duration": 0.260325,
     "end_time": "2023-01-25T10:52:48.806078",
     "exception": false,
     "start_time": "2023-01-25T10:52:48.545753",
     "status": "completed"
    },
    "tags": []
   },
   "outputs": [
    {
     "data": {
      "text/plain": [
       "Text(0.5, 1.0, 'Sales per Year ')"
      ]
     },
     "execution_count": 13,
     "metadata": {},
     "output_type": "execute_result"
    },
    {
     "data": {
      "image/png": "[encoded data removed]",
      "text/plain": [
       "<Figure size 432x288 with 1 Axes>"
      ]
     },
     "metadata": {
      "needs_background": "light"
     },
     "output_type": "display_data"
    }
   ],
   "source": [
    "total_sales_per_year = retail.groupby('Year')['Total_Sales'].sum().reset_index().sort_values('Total_Sales',ascending=False)\n",
    "z = sns.barplot(data=total_sales_per_year, x='Year',y='Total_Sales',palette = 'Blues_r')\n",
    "plt.title(\"Sales per Year \")"
   ]
  },
  {
   "cell_type": "code",
   "execution_count": 14,
   "id": "ad0d87c6",
   "metadata": {
    "execution": {
     "iopub.execute_input": "2023-01-25T10:52:48.831125Z",
     "iopub.status.busy": "2023-01-25T10:52:48.830339Z",
     "iopub.status.idle": "2023-01-25T10:52:49.370401Z",
     "shell.execute_reply": "2023-01-25T10:52:49.369067Z"
    },
    "papermill": {
     "duration": 0.55557,
     "end_time": "2023-01-25T10:52:49.372860",
     "exception": false,
     "start_time": "2023-01-25T10:52:48.817290",
     "status": "completed"
    },
    "tags": []
   },
   "outputs": [
    {
     "data": {
      "text/plain": [
       "Text(0.5, 1.0, 'Sales per Month')"
      ]
     },
     "execution_count": 14,
     "metadata": {},
     "output_type": "execute_result"
    },
    {
     "data": {
      "image/png": "[encoded data removed]",
      "text/plain": [
       "<Figure size 432x288 with 1 Axes>"
      ]
     },
     "metadata": {
      "needs_background": "light"
     },
     "output_type": "display_data"
    }
   ],
   "source": [
    "total_sales_per_month = retail.groupby(['Month','Year'])['Total_Sales'].sum().reset_index()\n",
    "z = sns.barplot(data=total_sales_per_month, y='Total_Sales',x='Month',hue='Year',palette = 'Blues_r')\n",
    "plt.title(\"Sales per Month\")"
   ]
  },
  {
   "cell_type": "code",
   "execution_count": 15,
   "id": "87c712a0",
   "metadata": {
    "execution": {
     "iopub.execute_input": "2023-01-25T10:52:49.390812Z",
     "iopub.status.busy": "2023-01-25T10:52:49.390392Z",
     "iopub.status.idle": "2023-01-25T10:52:49.721455Z",
     "shell.execute_reply": "2023-01-25T10:52:49.720244Z"
    },
    "papermill": {
     "duration": 0.343629,
     "end_time": "2023-01-25T10:52:49.724102",
     "exception": false,
     "start_time": "2023-01-25T10:52:49.380473",
     "status": "completed"
    },
    "tags": []
   },
   "outputs": [
    {
     "data": {
      "text/plain": [
       "Text(0.5, 1.0, 'Top Item Sales')"
      ]
     },
     "execution_count": 15,
     "metadata": {},
     "output_type": "execute_result"
    },
    {
     "data": {
      "image/png": "[encoded data removed]",
      "text/plain": [
       "<Figure size 432x288 with 1 Axes>"
      ]
     },
     "metadata": {
      "needs_background": "light"
     },
     "output_type": "display_data"
    }
   ],
   "source": [
    "total_sales_per_category = retail.groupby('Description')['Total_Sales'].sum().reset_index().sort_values('Total_Sales',ascending=False)\n",
    "z = sns.barplot(data=total_sales_per_category.head(5), y='Description',x='Total_Sales',palette = 'Blues_r')\n",
    "plt.title(\"Top Item Sales\")"
   ]
  },
  {
   "cell_type": "markdown",
   "id": "5cad8000",
   "metadata": {
    "papermill": {
     "duration": 0.008434,
     "end_time": "2023-01-25T10:52:49.740948",
     "exception": false,
     "start_time": "2023-01-25T10:52:49.732514",
     "status": "completed"
    },
    "tags": []
   },
   "source": [
    "I'm just a beginner and still learning. Suggestions for improvement are open. Thank you! "
   ]
  }
 ],
 "metadata": {
  "kernelspec": {
   "display_name": "Python 3",
   "language": "python",
   "name": "python3"
  },
  "language_info": {
   "codemirror_mode": {
    "name": "ipython",
    "version": 3
   },
   "file_extension": ".py",
   "mimetype": "text/x-python",
   "name": "python",
   "nbconvert_exporter": "python",
   "pygments_lexer": "ipython3",
   "version": "3.7.12"
  },
  "papermill": {
   "default_parameters": {},
   "duration": 22.572056,
   "end_time": "2023-01-25T10:52:50.576959",
   "environment_variables": {},
   "exception": null,
   "input_path": "__notebook__.ipynb",
   "output_path": "__notebook__.ipynb",
   "parameters": {},
   "start_time": "2023-01-25T10:52:28.004903",
   "version": "2.3.4"
  }
 },
 "nbformat": 4,
 "nbformat_minor": 5
}
