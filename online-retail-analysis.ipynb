{
 "cells": [
  {
   "cell_type": "code",
   "execution_count": 1,
   "id": "a23a5ea3",
   "metadata": {
    "execution": {
     "iopub.execute_input": "2023-01-25T06:37:36.337511Z",
     "iopub.status.busy": "2023-01-25T06:37:36.337065Z",
     "iopub.status.idle": "2023-01-25T06:37:37.505270Z",
     "shell.execute_reply": "2023-01-25T06:37:37.504244Z"
    },
    "papermill": {
     "duration": 1.180351,
     "end_time": "2023-01-25T06:37:37.508390",
     "exception": false,
     "start_time": "2023-01-25T06:37:36.328039",
     "status": "completed"
    },
    "tags": []
   },
   "outputs": [],
   "source": [
    "#Importing libraries\n",
    "import pandas as pd\n",
    "import numpy as np\n",
    "import matplotlib.pyplot as plt\n",
    "import seaborn as sns"
   ]
  },
  {
   "cell_type": "code",
   "execution_count": 2,
   "id": "7e85e010",
   "metadata": {
    "execution": {
     "iopub.execute_input": "2023-01-25T06:37:37.524466Z",
     "iopub.status.busy": "2023-01-25T06:37:37.522489Z",
     "iopub.status.idle": "2023-01-25T06:37:38.889312Z",
     "shell.execute_reply": "2023-01-25T06:37:38.888154Z"
    },
    "papermill": {
     "duration": 1.379119,
     "end_time": "2023-01-25T06:37:38.894090",
     "exception": false,
     "start_time": "2023-01-25T06:37:37.514971",
     "status": "completed"
    },
    "tags": []
   },
   "outputs": [
    {
     "data": {
      "text/html": [
       "<div>\n",
       "<style scoped>\n",
       "    .dataframe tbody tr th:only-of-type {\n",
       "        vertical-align: middle;\n",
       "    }\n",
       "\n",
       "    .dataframe tbody tr th {\n",
       "        vertical-align: top;\n",
       "    }\n",
       "\n",
       "    .dataframe thead th {\n",
       "        text-align: right;\n",
       "    }\n",
       "</style>\n",
       "<table border=\"1\" class=\"dataframe\">\n",
       "  <thead>\n",
       "    <tr style=\"text-align: right;\">\n",
       "      <th></th>\n",
       "      <th>InvoiceNo</th>\n",
       "      <th>StockCode</th>\n",
       "      <th>Description</th>\n",
       "      <th>Quantity</th>\n",
       "      <th>InvoiceDate</th>\n",
       "      <th>UnitPrice</th>\n",
       "      <th>CustomerID</th>\n",
       "      <th>Country</th>\n",
       "    </tr>\n",
       "  </thead>\n",
       "  <tbody>\n",
       "    <tr>\n",
       "      <th>0</th>\n",
       "      <td>536365</td>\n",
       "      <td>85123A</td>\n",
       "      <td>WHITE HANGING HEART T-LIGHT HOLDER</td>\n",
       "      <td>6</td>\n",
       "      <td>2010-12-01 08:26:00</td>\n",
       "      <td>2.55</td>\n",
       "      <td>17850.0</td>\n",
       "      <td>United Kingdom</td>\n",
       "    </tr>\n",
       "    <tr>\n",
       "      <th>1</th>\n",
       "      <td>536365</td>\n",
       "      <td>71053</td>\n",
       "      <td>WHITE METAL LANTERN</td>\n",
       "      <td>6</td>\n",
       "      <td>2010-12-01 08:26:00</td>\n",
       "      <td>3.39</td>\n",
       "      <td>17850.0</td>\n",
       "      <td>United Kingdom</td>\n",
       "    </tr>\n",
       "    <tr>\n",
       "      <th>2</th>\n",
       "      <td>536365</td>\n",
       "      <td>84406B</td>\n",
       "      <td>CREAM CUPID HEARTS COAT HANGER</td>\n",
       "      <td>8</td>\n",
       "      <td>2010-12-01 08:26:00</td>\n",
       "      <td>2.75</td>\n",
       "      <td>17850.0</td>\n",
       "      <td>United Kingdom</td>\n",
       "    </tr>\n",
       "    <tr>\n",
       "      <th>3</th>\n",
       "      <td>536365</td>\n",
       "      <td>84029G</td>\n",
       "      <td>KNITTED UNION FLAG HOT WATER BOTTLE</td>\n",
       "      <td>6</td>\n",
       "      <td>2010-12-01 08:26:00</td>\n",
       "      <td>3.39</td>\n",
       "      <td>17850.0</td>\n",
       "      <td>United Kingdom</td>\n",
       "    </tr>\n",
       "    <tr>\n",
       "      <th>4</th>\n",
       "      <td>536365</td>\n",
       "      <td>84029E</td>\n",
       "      <td>RED WOOLLY HOTTIE WHITE HEART.</td>\n",
       "      <td>6</td>\n",
       "      <td>2010-12-01 08:26:00</td>\n",
       "      <td>3.39</td>\n",
       "      <td>17850.0</td>\n",
       "      <td>United Kingdom</td>\n",
       "    </tr>\n",
       "  </tbody>\n",
       "</table>\n",
       "</div>"
      ],
      "text/plain": [
       "  InvoiceNo StockCode                          Description  Quantity  \\\n",
       "0    536365    85123A   WHITE HANGING HEART T-LIGHT HOLDER         6   \n",
       "1    536365     71053                  WHITE METAL LANTERN         6   \n",
       "2    536365    84406B       CREAM CUPID HEARTS COAT HANGER         8   \n",
       "3    536365    84029G  KNITTED UNION FLAG HOT WATER BOTTLE         6   \n",
       "4    536365    84029E       RED WOOLLY HOTTIE WHITE HEART.         6   \n",
       "\n",
       "           InvoiceDate  UnitPrice  CustomerID         Country  \n",
       "0  2010-12-01 08:26:00       2.55     17850.0  United Kingdom  \n",
       "1  2010-12-01 08:26:00       3.39     17850.0  United Kingdom  \n",
       "2  2010-12-01 08:26:00       2.75     17850.0  United Kingdom  \n",
       "3  2010-12-01 08:26:00       3.39     17850.0  United Kingdom  \n",
       "4  2010-12-01 08:26:00       3.39     17850.0  United Kingdom  "
      ]
     },
     "execution_count": 2,
     "metadata": {},
     "output_type": "execute_result"
    }
   ],
   "source": [
    "#Loading Data\n",
    "retail = pd.read_csv('/kaggle/input/online-retail-dataset/online_retail.csv')\n",
    "retail.head()"
   ]
  },
  {
   "cell_type": "code",
   "execution_count": 3,
   "id": "621424ca",
   "metadata": {
    "execution": {
     "iopub.execute_input": "2023-01-25T06:37:38.908329Z",
     "iopub.status.busy": "2023-01-25T06:37:38.907908Z",
     "iopub.status.idle": "2023-01-25T06:37:39.036641Z",
     "shell.execute_reply": "2023-01-25T06:37:39.035464Z"
    },
    "papermill": {
     "duration": 0.139718,
     "end_time": "2023-01-25T06:37:39.040215",
     "exception": false,
     "start_time": "2023-01-25T06:37:38.900497",
     "status": "completed"
    },
    "tags": []
   },
   "outputs": [
    {
     "data": {
      "text/plain": [
       "InvoiceNo           0\n",
       "StockCode           0\n",
       "Description      1454\n",
       "Quantity            0\n",
       "InvoiceDate         0\n",
       "UnitPrice           0\n",
       "CustomerID     135080\n",
       "Country             0\n",
       "dtype: int64"
      ]
     },
     "execution_count": 3,
     "metadata": {},
     "output_type": "execute_result"
    }
   ],
   "source": [
    "#Checking of null values\n",
    "missing_values_count = retail.isnull().sum()\n",
    "missing_values_count[0:8]"
   ]
  },
  {
   "cell_type": "code",
   "execution_count": 4,
   "id": "73cdff6a",
   "metadata": {
    "execution": {
     "iopub.execute_input": "2023-01-25T06:37:39.055224Z",
     "iopub.status.busy": "2023-01-25T06:37:39.054789Z",
     "iopub.status.idle": "2023-01-25T06:37:39.061359Z",
     "shell.execute_reply": "2023-01-25T06:37:39.060210Z"
    },
    "papermill": {
     "duration": 0.017358,
     "end_time": "2023-01-25T06:37:39.064117",
     "exception": false,
     "start_time": "2023-01-25T06:37:39.046759",
     "status": "completed"
    },
    "tags": []
   },
   "outputs": [
    {
     "name": "stdout",
     "output_type": "stream",
     "text": [
      "Number of Rows: 541909\n",
      "Number of Columns: 8\n"
     ]
    }
   ],
   "source": [
    "#Checking of rows and Columns\n",
    "rows = len(retail.axes[0])\n",
    "columns = len(retail.axes[1])\n",
    "\n",
    "print(\"Number of Rows:\",rows)\n",
    "print(\"Number of Columns:\",columns)"
   ]
  },
  {
   "cell_type": "markdown",
   "id": "53aca3c3",
   "metadata": {
    "papermill": {
     "duration": 0.006081,
     "end_time": "2023-01-25T06:37:39.076734",
     "exception": false,
     "start_time": "2023-01-25T06:37:39.070653",
     "status": "completed"
    },
    "tags": []
   },
   "source": [
    "    As you can see, there are 1454 null values in Description Column while CustomerID containts 135080 null values. We gonna replace null values in Description with 'None' and '0' in CustomerID. We cannot have null values specailly in customerID because it is important to our transaction analysis. "
   ]
  },
  {
   "cell_type": "code",
   "execution_count": 5,
   "id": "290f6d92",
   "metadata": {
    "execution": {
     "iopub.execute_input": "2023-01-25T06:37:39.091044Z",
     "iopub.status.busy": "2023-01-25T06:37:39.090589Z",
     "iopub.status.idle": "2023-01-25T06:37:39.388618Z",
     "shell.execute_reply": "2023-01-25T06:37:39.387335Z"
    },
    "papermill": {
     "duration": 0.308997,
     "end_time": "2023-01-25T06:37:39.391749",
     "exception": false,
     "start_time": "2023-01-25T06:37:39.082752",
     "status": "completed"
    },
    "tags": []
   },
   "outputs": [],
   "source": [
    "#Data Cleaning and Manipulation\n",
    "retail['Description'] = retail['Description'].fillna('None')\n",
    "retail['Description'] = retail['Description'].str.strip()\n",
    "retail['CustomerID'] = retail['CustomerID'].fillna('0')"
   ]
  },
  {
   "cell_type": "code",
   "execution_count": 6,
   "id": "361ebef7",
   "metadata": {
    "execution": {
     "iopub.execute_input": "2023-01-25T06:37:39.406220Z",
     "iopub.status.busy": "2023-01-25T06:37:39.405793Z",
     "iopub.status.idle": "2023-01-25T06:37:39.552132Z",
     "shell.execute_reply": "2023-01-25T06:37:39.550954Z"
    },
    "papermill": {
     "duration": 0.15742,
     "end_time": "2023-01-25T06:37:39.555220",
     "exception": false,
     "start_time": "2023-01-25T06:37:39.397800",
     "status": "completed"
    },
    "tags": []
   },
   "outputs": [
    {
     "data": {
      "text/plain": [
       "InvoiceNo      0\n",
       "StockCode      0\n",
       "Description    0\n",
       "Quantity       0\n",
       "InvoiceDate    0\n",
       "UnitPrice      0\n",
       "CustomerID     0\n",
       "Country        0\n",
       "dtype: int64"
      ]
     },
     "execution_count": 6,
     "metadata": {},
     "output_type": "execute_result"
    }
   ],
   "source": [
    "#Checking of null values\n",
    "missing_values_count = retail.isnull().sum()\n",
    "missing_values_count[0:8]"
   ]
  },
  {
   "cell_type": "markdown",
   "id": "a5a76182",
   "metadata": {
    "papermill": {
     "duration": 0.006553,
     "end_time": "2023-01-25T06:37:39.569088",
     "exception": false,
     "start_time": "2023-01-25T06:37:39.562535",
     "status": "completed"
    },
    "tags": []
   },
   "source": [
    "    As you can see, there is no null values anymore. Let's proceed in checking of data types if there are columns that in need of changing the data types. "
   ]
  },
  {
   "cell_type": "code",
   "execution_count": 7,
   "id": "c926a745",
   "metadata": {
    "execution": {
     "iopub.execute_input": "2023-01-25T06:37:39.585959Z",
     "iopub.status.busy": "2023-01-25T06:37:39.585160Z",
     "iopub.status.idle": "2023-01-25T06:37:39.744472Z",
     "shell.execute_reply": "2023-01-25T06:37:39.742480Z"
    },
    "papermill": {
     "duration": 0.172887,
     "end_time": "2023-01-25T06:37:39.748819",
     "exception": false,
     "start_time": "2023-01-25T06:37:39.575932",
     "status": "completed"
    },
    "tags": []
   },
   "outputs": [
    {
     "name": "stdout",
     "output_type": "stream",
     "text": [
      "<class 'pandas.core.frame.DataFrame'>\n",
      "RangeIndex: 541909 entries, 0 to 541908\n",
      "Data columns (total 8 columns):\n",
      " #   Column       Non-Null Count   Dtype  \n",
      "---  ------       --------------   -----  \n",
      " 0   InvoiceNo    541909 non-null  object \n",
      " 1   StockCode    541909 non-null  object \n",
      " 2   Description  541909 non-null  object \n",
      " 3   Quantity     541909 non-null  int64  \n",
      " 4   InvoiceDate  541909 non-null  object \n",
      " 5   UnitPrice    541909 non-null  float64\n",
      " 6   CustomerID   541909 non-null  object \n",
      " 7   Country      541909 non-null  object \n",
      "dtypes: float64(1), int64(1), object(6)\n",
      "memory usage: 33.1+ MB\n"
     ]
    }
   ],
   "source": [
    "#Checking of Dtypes\n",
    "retail.info()"
   ]
  },
  {
   "cell_type": "markdown",
   "id": "3ba3b4c4",
   "metadata": {
    "papermill": {
     "duration": 0.006155,
     "end_time": "2023-01-25T06:37:39.761772",
     "exception": false,
     "start_time": "2023-01-25T06:37:39.755617",
     "status": "completed"
    },
    "tags": []
   },
   "source": [
    "As you can see, the data type of InvoideDate is object and CustomerID is float64. We need to change the InvoiceDate to Datetime in order to extract the Year and Month for our analysis.For the customerID, we need to change it to int in order to remove decimals because there is no decimal in IDs."
   ]
  },
  {
   "cell_type": "code",
   "execution_count": 8,
   "id": "a499e00f",
   "metadata": {
    "execution": {
     "iopub.execute_input": "2023-01-25T06:37:39.777156Z",
     "iopub.status.busy": "2023-01-25T06:37:39.776708Z",
     "iopub.status.idle": "2023-01-25T06:37:45.627942Z",
     "shell.execute_reply": "2023-01-25T06:37:45.626522Z"
    },
    "papermill": {
     "duration": 5.863072,
     "end_time": "2023-01-25T06:37:45.631236",
     "exception": false,
     "start_time": "2023-01-25T06:37:39.768164",
     "status": "completed"
    },
    "tags": []
   },
   "outputs": [],
   "source": [
    "#Data Cleaning and Manipulaton \n",
    "retail['InvoiceDate'] = pd.to_datetime(retail['InvoiceDate'])\n",
    "retail['Year'] = pd.to_datetime(retail['InvoiceDate']).dt.strftime('%Y')\n",
    "retail['Month'] = pd.to_datetime(retail['InvoiceDate']).dt.strftime('%m')\n",
    "retail['CustomerID'] = retail['CustomerID'].astype(int)\n",
    "retail['Total_Sales'] = retail['Quantity']*retail['UnitPrice']\n"
   ]
  },
  {
   "cell_type": "code",
   "execution_count": 9,
   "id": "b2f241ea",
   "metadata": {
    "execution": {
     "iopub.execute_input": "2023-01-25T06:37:45.647641Z",
     "iopub.status.busy": "2023-01-25T06:37:45.647214Z",
     "iopub.status.idle": "2023-01-25T06:37:45.810756Z",
     "shell.execute_reply": "2023-01-25T06:37:45.808347Z"
    },
    "papermill": {
     "duration": 0.175312,
     "end_time": "2023-01-25T06:37:45.814041",
     "exception": false,
     "start_time": "2023-01-25T06:37:45.638729",
     "status": "completed"
    },
    "tags": []
   },
   "outputs": [
    {
     "name": "stdout",
     "output_type": "stream",
     "text": [
      "<class 'pandas.core.frame.DataFrame'>\n",
      "RangeIndex: 541909 entries, 0 to 541908\n",
      "Data columns (total 11 columns):\n",
      " #   Column       Non-Null Count   Dtype         \n",
      "---  ------       --------------   -----         \n",
      " 0   InvoiceNo    541909 non-null  object        \n",
      " 1   StockCode    541909 non-null  object        \n",
      " 2   Description  541909 non-null  object        \n",
      " 3   Quantity     541909 non-null  int64         \n",
      " 4   InvoiceDate  541909 non-null  datetime64[ns]\n",
      " 5   UnitPrice    541909 non-null  float64       \n",
      " 6   CustomerID   541909 non-null  int64         \n",
      " 7   Country      541909 non-null  object        \n",
      " 8   Year         541909 non-null  object        \n",
      " 9   Month        541909 non-null  object        \n",
      " 10  Total_Sales  541909 non-null  float64       \n",
      "dtypes: datetime64[ns](1), float64(2), int64(2), object(6)\n",
      "memory usage: 45.5+ MB\n"
     ]
    }
   ],
   "source": [
    "#Checking Dtypes\n",
    "retail.info()"
   ]
  },
  {
   "cell_type": "code",
   "execution_count": 10,
   "id": "137bd0a5",
   "metadata": {
    "execution": {
     "iopub.execute_input": "2023-01-25T06:37:45.829292Z",
     "iopub.status.busy": "2023-01-25T06:37:45.828820Z",
     "iopub.status.idle": "2023-01-25T06:37:45.852445Z",
     "shell.execute_reply": "2023-01-25T06:37:45.851008Z"
    },
    "papermill": {
     "duration": 0.034441,
     "end_time": "2023-01-25T06:37:45.855476",
     "exception": false,
     "start_time": "2023-01-25T06:37:45.821035",
     "status": "completed"
    },
    "tags": []
   },
   "outputs": [
    {
     "data": {
      "text/html": [
       "<div>\n",
       "<style scoped>\n",
       "    .dataframe tbody tr th:only-of-type {\n",
       "        vertical-align: middle;\n",
       "    }\n",
       "\n",
       "    .dataframe tbody tr th {\n",
       "        vertical-align: top;\n",
       "    }\n",
       "\n",
       "    .dataframe thead th {\n",
       "        text-align: right;\n",
       "    }\n",
       "</style>\n",
       "<table border=\"1\" class=\"dataframe\">\n",
       "  <thead>\n",
       "    <tr style=\"text-align: right;\">\n",
       "      <th></th>\n",
       "      <th>InvoiceNo</th>\n",
       "      <th>StockCode</th>\n",
       "      <th>Description</th>\n",
       "      <th>Quantity</th>\n",
       "      <th>InvoiceDate</th>\n",
       "      <th>UnitPrice</th>\n",
       "      <th>CustomerID</th>\n",
       "      <th>Country</th>\n",
       "      <th>Year</th>\n",
       "      <th>Month</th>\n",
       "      <th>Total_Sales</th>\n",
       "    </tr>\n",
       "  </thead>\n",
       "  <tbody>\n",
       "    <tr>\n",
       "      <th>0</th>\n",
       "      <td>536365</td>\n",
       "      <td>85123A</td>\n",
       "      <td>WHITE HANGING HEART T-LIGHT HOLDER</td>\n",
       "      <td>6</td>\n",
       "      <td>2010-12-01 08:26:00</td>\n",
       "      <td>2.55</td>\n",
       "      <td>17850</td>\n",
       "      <td>United Kingdom</td>\n",
       "      <td>2010</td>\n",
       "      <td>12</td>\n",
       "      <td>15.30</td>\n",
       "    </tr>\n",
       "    <tr>\n",
       "      <th>1</th>\n",
       "      <td>536365</td>\n",
       "      <td>71053</td>\n",
       "      <td>WHITE METAL LANTERN</td>\n",
       "      <td>6</td>\n",
       "      <td>2010-12-01 08:26:00</td>\n",
       "      <td>3.39</td>\n",
       "      <td>17850</td>\n",
       "      <td>United Kingdom</td>\n",
       "      <td>2010</td>\n",
       "      <td>12</td>\n",
       "      <td>20.34</td>\n",
       "    </tr>\n",
       "    <tr>\n",
       "      <th>2</th>\n",
       "      <td>536365</td>\n",
       "      <td>84406B</td>\n",
       "      <td>CREAM CUPID HEARTS COAT HANGER</td>\n",
       "      <td>8</td>\n",
       "      <td>2010-12-01 08:26:00</td>\n",
       "      <td>2.75</td>\n",
       "      <td>17850</td>\n",
       "      <td>United Kingdom</td>\n",
       "      <td>2010</td>\n",
       "      <td>12</td>\n",
       "      <td>22.00</td>\n",
       "    </tr>\n",
       "    <tr>\n",
       "      <th>3</th>\n",
       "      <td>536365</td>\n",
       "      <td>84029G</td>\n",
       "      <td>KNITTED UNION FLAG HOT WATER BOTTLE</td>\n",
       "      <td>6</td>\n",
       "      <td>2010-12-01 08:26:00</td>\n",
       "      <td>3.39</td>\n",
       "      <td>17850</td>\n",
       "      <td>United Kingdom</td>\n",
       "      <td>2010</td>\n",
       "      <td>12</td>\n",
       "      <td>20.34</td>\n",
       "    </tr>\n",
       "    <tr>\n",
       "      <th>4</th>\n",
       "      <td>536365</td>\n",
       "      <td>84029E</td>\n",
       "      <td>RED WOOLLY HOTTIE WHITE HEART.</td>\n",
       "      <td>6</td>\n",
       "      <td>2010-12-01 08:26:00</td>\n",
       "      <td>3.39</td>\n",
       "      <td>17850</td>\n",
       "      <td>United Kingdom</td>\n",
       "      <td>2010</td>\n",
       "      <td>12</td>\n",
       "      <td>20.34</td>\n",
       "    </tr>\n",
       "  </tbody>\n",
       "</table>\n",
       "</div>"
      ],
      "text/plain": [
       "  InvoiceNo StockCode                          Description  Quantity  \\\n",
       "0    536365    85123A   WHITE HANGING HEART T-LIGHT HOLDER         6   \n",
       "1    536365     71053                  WHITE METAL LANTERN         6   \n",
       "2    536365    84406B       CREAM CUPID HEARTS COAT HANGER         8   \n",
       "3    536365    84029G  KNITTED UNION FLAG HOT WATER BOTTLE         6   \n",
       "4    536365    84029E       RED WOOLLY HOTTIE WHITE HEART.         6   \n",
       "\n",
       "          InvoiceDate  UnitPrice  CustomerID         Country  Year Month  \\\n",
       "0 2010-12-01 08:26:00       2.55       17850  United Kingdom  2010    12   \n",
       "1 2010-12-01 08:26:00       3.39       17850  United Kingdom  2010    12   \n",
       "2 2010-12-01 08:26:00       2.75       17850  United Kingdom  2010    12   \n",
       "3 2010-12-01 08:26:00       3.39       17850  United Kingdom  2010    12   \n",
       "4 2010-12-01 08:26:00       3.39       17850  United Kingdom  2010    12   \n",
       "\n",
       "   Total_Sales  \n",
       "0        15.30  \n",
       "1        20.34  \n",
       "2        22.00  \n",
       "3        20.34  \n",
       "4        20.34  "
      ]
     },
     "execution_count": 10,
     "metadata": {},
     "output_type": "execute_result"
    }
   ],
   "source": [
    "retail.head()"
   ]
  },
  {
   "cell_type": "markdown",
   "id": "b1c806c9",
   "metadata": {
    "papermill": {
     "duration": 0.005847,
     "end_time": "2023-01-25T06:37:45.867625",
     "exception": false,
     "start_time": "2023-01-25T06:37:45.861778",
     "status": "completed"
    },
    "tags": []
   },
   "source": [
    "We are now done in cleaning the dataset, let's proceed to the analysis. "
   ]
  },
  {
   "cell_type": "code",
   "execution_count": 11,
   "id": "9519bef5",
   "metadata": {
    "execution": {
     "iopub.execute_input": "2023-01-25T06:37:45.882195Z",
     "iopub.status.busy": "2023-01-25T06:37:45.881669Z",
     "iopub.status.idle": "2023-01-25T06:37:46.213743Z",
     "shell.execute_reply": "2023-01-25T06:37:46.211998Z"
    },
    "papermill": {
     "duration": 0.343365,
     "end_time": "2023-01-25T06:37:46.217075",
     "exception": false,
     "start_time": "2023-01-25T06:37:45.873710",
     "status": "completed"
    },
    "tags": []
   },
   "outputs": [
    {
     "data": {
      "text/plain": [
       "Text(0.5, 1.0, 'Top 5 Countries with most sales ')"
      ]
     },
     "execution_count": 11,
     "metadata": {},
     "output_type": "execute_result"
    },
    {
     "data": {
      "image/png": "[encoded data removed]",
      "text/plain": [
       "<Figure size 432x288 with 1 Axes>"
      ]
     },
     "metadata": {
      "needs_background": "light"
     },
     "output_type": "display_data"
    }
   ],
   "source": [
    "#Analysis and Visualization\n",
    "\n",
    "total_sales_per_country = retail.groupby('Country')['Total_Sales'].sum().reset_index().sort_values('Total_Sales',ascending=False)\n",
    "z = sns.barplot(data=total_sales_per_country.head(5), x='Total_Sales',y='Country',palette = 'Blues_r')\n",
    "plt.title(\"Top 5 Countries with most sales \")"
   ]
  },
  {
   "cell_type": "code",
   "execution_count": 12,
   "id": "2e39d6c7",
   "metadata": {
    "execution": {
     "iopub.execute_input": "2023-01-25T06:37:46.234816Z",
     "iopub.status.busy": "2023-01-25T06:37:46.234333Z",
     "iopub.status.idle": "2023-01-25T06:37:46.497577Z",
     "shell.execute_reply": "2023-01-25T06:37:46.495737Z"
    },
    "papermill": {
     "duration": 0.275635,
     "end_time": "2023-01-25T06:37:46.501124",
     "exception": false,
     "start_time": "2023-01-25T06:37:46.225489",
     "status": "completed"
    },
    "tags": []
   },
   "outputs": [
    {
     "data": {
      "text/plain": [
       "Text(0.5, 1.0, 'Top 5 Countries with most Customers ')"
      ]
     },
     "execution_count": 12,
     "metadata": {},
     "output_type": "execute_result"
    },
    {
     "data": {
      "image/png": "[encoded data removed]",
      "text/plain": [
       "<Figure size 432x288 with 1 Axes>"
      ]
     },
     "metadata": {
      "needs_background": "light"
     },
     "output_type": "display_data"
    }
   ],
   "source": [
    "total_customer_per_country = retail.groupby('Country')['CustomerID'].count().reset_index().sort_values('CustomerID',ascending=False)\n",
    "z = sns.barplot(data=total_customer_per_country.head(5), x='CustomerID',y='Country',palette = 'Blues_r')\n",
    "plt.title(\"Top 5 Countries with most Customers \")"
   ]
  },
  {
   "cell_type": "code",
   "execution_count": 13,
   "id": "59b34682",
   "metadata": {
    "execution": {
     "iopub.execute_input": "2023-01-25T06:37:46.519412Z",
     "iopub.status.busy": "2023-01-25T06:37:46.518336Z",
     "iopub.status.idle": "2023-01-25T06:37:46.763570Z",
     "shell.execute_reply": "2023-01-25T06:37:46.762055Z"
    },
    "papermill": {
     "duration": 0.257653,
     "end_time": "2023-01-25T06:37:46.766362",
     "exception": false,
     "start_time": "2023-01-25T06:37:46.508709",
     "status": "completed"
    },
    "tags": []
   },
   "outputs": [
    {
     "data": {
      "text/plain": [
       "Text(0.5, 1.0, 'Sales per Year ')"
      ]
     },
     "execution_count": 13,
     "metadata": {},
     "output_type": "execute_result"
    },
    {
     "data": {
      "image/png": "[encoded data removed]",
      "text/plain": [
       "<Figure size 432x288 with 1 Axes>"
      ]
     },
     "metadata": {
      "needs_background": "light"
     },
     "output_type": "display_data"
    }
   ],
   "source": [
    "total_sales_per_year = retail.groupby('Year')['Total_Sales'].sum().reset_index().sort_values('Total_Sales',ascending=False)\n",
    "z = sns.barplot(data=total_sales_per_year, x='Year',y='Total_Sales',palette = 'Blues_r')\n",
    "plt.title(\"Sales per Year \")"
   ]
  },
  {
   "cell_type": "code",
   "execution_count": 14,
   "id": "524bccb9",
   "metadata": {
    "execution": {
     "iopub.execute_input": "2023-01-25T06:37:46.783455Z",
     "iopub.status.busy": "2023-01-25T06:37:46.782969Z",
     "iopub.status.idle": "2023-01-25T06:37:47.303609Z",
     "shell.execute_reply": "2023-01-25T06:37:47.302120Z"
    },
    "papermill": {
     "duration": 0.532541,
     "end_time": "2023-01-25T06:37:47.306326",
     "exception": false,
     "start_time": "2023-01-25T06:37:46.773785",
     "status": "completed"
    },
    "tags": []
   },
   "outputs": [
    {
     "data": {
      "text/plain": [
       "Text(0.5, 1.0, 'Sales per Month')"
      ]
     },
     "execution_count": 14,
     "metadata": {},
     "output_type": "execute_result"
    },
    {
     "data": {
      "image/png": "[encoded data removed]",
      "text/plain": [
       "<Figure size 432x288 with 1 Axes>"
      ]
     },
     "metadata": {
      "needs_background": "light"
     },
     "output_type": "display_data"
    }
   ],
   "source": [
    "total_sales_per_month = retail.groupby(['Month','Year'])['Total_Sales'].sum().reset_index()\n",
    "z = sns.barplot(data=total_sales_per_month, y='Total_Sales',x='Month',hue='Year',palette = 'Blues_r')\n",
    "plt.title(\"Sales per Month\")"
   ]
  },
  {
   "cell_type": "code",
   "execution_count": 15,
   "id": "f2d4949b",
   "metadata": {
    "execution": {
     "iopub.execute_input": "2023-01-25T06:37:47.324247Z",
     "iopub.status.busy": "2023-01-25T06:37:47.323075Z",
     "iopub.status.idle": "2023-01-25T06:37:47.674504Z",
     "shell.execute_reply": "2023-01-25T06:37:47.673174Z"
    },
    "papermill": {
     "duration": 0.363289,
     "end_time": "2023-01-25T06:37:47.677163",
     "exception": false,
     "start_time": "2023-01-25T06:37:47.313874",
     "status": "completed"
    },
    "tags": []
   },
   "outputs": [
    {
     "data": {
      "text/plain": [
       "Text(0.5, 1.0, 'Top Sales')"
      ]
     },
     "execution_count": 15,
     "metadata": {},
     "output_type": "execute_result"
    },
    {
     "data": {
      "image/png": "[encoded data removed]",
      "text/plain": [
       "<Figure size 432x288 with 1 Axes>"
      ]
     },
     "metadata": {
      "needs_background": "light"
     },
     "output_type": "display_data"
    }
   ],
   "source": [
    "total_sales_per_category = retail.groupby('Description')['Total_Sales'].sum().reset_index().sort_values('Total_Sales',ascending=False)\n",
    "z = sns.barplot(data=total_sales_per_category.head(5), y='Description',x='Total_Sales',palette = 'Blues_r')\n",
    "plt.title(\"Top Sales\")"
   ]
  },
  {
   "cell_type": "markdown",
   "id": "3d925fed",
   "metadata": {
    "papermill": {
     "duration": 0.00748,
     "end_time": "2023-01-25T06:37:47.692591",
     "exception": false,
     "start_time": "2023-01-25T06:37:47.685111",
     "status": "completed"
    },
    "tags": []
   },
   "source": [
    "I'm just a beginner and still learning. Suggestions for improvement are open. Thank you! "
   ]
  }
 ],
 "metadata": {
  "kernelspec": {
   "display_name": "Python 3",
   "language": "python",
   "name": "python3"
  },
  "language_info": {
   "codemirror_mode": {
    "name": "ipython",
    "version": 3
   },
   "file_extension": ".py",
   "mimetype": "text/x-python",
   "name": "python",
   "nbconvert_exporter": "python",
   "pygments_lexer": "ipython3",
   "version": "3.7.12"
  },
  "papermill": {
   "default_parameters": {},
   "duration": 23.132201,
   "end_time": "2023-01-25T06:37:48.524849",
   "environment_variables": {},
   "exception": null,
   "input_path": "__notebook__.ipynb",
   "output_path": "__notebook__.ipynb",
   "parameters": {},
   "start_time": "2023-01-25T06:37:25.392648",
   "version": "2.3.4"
  }
 },
 "nbformat": 4,
 "nbformat_minor": 5
}
