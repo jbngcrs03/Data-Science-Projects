{
 "cells": [
  {
   "cell_type": "code",
   "execution_count": 204,
   "id": "c2c1a20c",
   "metadata": {},
   "outputs": [
    {
     "name": "stderr",
     "output_type": "stream",
     "text": [
      "[nltk_data] Downloading package punkt to C:\\Users\\Hendelle.DESKTOP-V5J\n",
      "[nltk_data]     NA20\\AppData\\Roaming\\nltk_data...\n",
      "[nltk_data]   Package punkt is already up-to-date!\n",
      "[nltk_data] Downloading package averaged_perceptron_tagger to C:\\Users\n",
      "[nltk_data]     \\Hendelle.DESKTOP-V5JNA20\\AppData\\Roaming\\nltk_data...\n",
      "[nltk_data]   Package averaged_perceptron_tagger is already up-to-\n",
      "[nltk_data]       date!\n",
      "[nltk_data] Downloading package maxent_ne_chunker to C:\\Users\\Hendelle\n",
      "[nltk_data]     .DESKTOP-V5JNA20\\AppData\\Roaming\\nltk_data...\n",
      "[nltk_data]   Package maxent_ne_chunker is already up-to-date!\n",
      "[nltk_data] Downloading package words to C:\\Users\\Hendelle.DESKTOP-V5J\n",
      "[nltk_data]     NA20\\AppData\\Roaming\\nltk_data...\n",
      "[nltk_data]   Package words is already up-to-date!\n",
      "[nltk_data] Downloading package vader_lexicon to C:\\Users\\Hendelle.DES\n",
      "[nltk_data]     KTOP-V5JNA20\\AppData\\Roaming\\nltk_data...\n",
      "[nltk_data]   Package vader_lexicon is already up-to-date!\n"
     ]
    }
   ],
   "source": [
    "import pandas as pd\n",
    "import numpy as np\n",
    "import matplotlib.pyplot as plt\n",
    "import seaborn as sns\n",
    "import re\n",
    "\n",
    "plt.style.use('ggplot')\n",
    "\n",
    "import nltk\n",
    "nltk.download('punkt')\n",
    "nltk.download('averaged_perceptron_tagger')\n",
    "nltk.download('maxent_ne_chunker')\n",
    "nltk.download('words')\n",
    "nltk.download('vader_lexicon')\n",
    "\n",
    "import string"
   ]
  },
  {
   "cell_type": "code",
   "execution_count": 205,
   "id": "60459ff6",
   "metadata": {},
   "outputs": [
    {
     "name": "stdout",
     "output_type": "stream",
     "text": [
      "<class 'pandas.core.frame.DataFrame'>\n",
      "RangeIndex: 864 entries, 0 to 863\n",
      "Data columns (total 4 columns):\n",
      " #   Column       Non-Null Count  Dtype \n",
      "---  ------       --------------  ----- \n",
      " 0   Branch       864 non-null    object\n",
      " 1   Review Date  864 non-null    object\n",
      " 2   Rating       864 non-null    int64 \n",
      " 3   Comment      266 non-null    string\n",
      "dtypes: int64(1), object(2), string(1)\n",
      "memory usage: 27.1+ KB\n"
     ]
    }
   ],
   "source": [
    "df = pd.read_excel(r'C:\\Users\\Hendelle.DESKTOP-V5JNA20\\Desktop\\PROJECTS\\Project PRISM\\AllDay\\2022\\AllDay 2022.xlsx',index_col=False)\n",
    "df.Comment = df.Comment.astype('string')\n",
    "df.info()"
   ]
  },
  {
   "cell_type": "code",
   "execution_count": 206,
   "id": "6aa0f9ef",
   "metadata": {},
   "outputs": [
    {
     "name": "stdout",
     "output_type": "stream",
     "text": [
      "<class 'pandas.core.frame.DataFrame'>\n",
      "Int64Index: 266 entries, 1 to 863\n",
      "Data columns (total 4 columns):\n",
      " #   Column       Non-Null Count  Dtype \n",
      "---  ------       --------------  ----- \n",
      " 0   Branch       266 non-null    object\n",
      " 1   Review Date  266 non-null    object\n",
      " 2   Rating       266 non-null    int64 \n",
      " 3   Comment      266 non-null    string\n",
      "dtypes: int64(1), object(2), string(1)\n",
      "memory usage: 10.4+ KB\n"
     ]
    }
   ],
   "source": [
    "df2 = df.dropna()\n",
    "df2.info()"
   ]
  },
  {
   "cell_type": "code",
   "execution_count": 207,
   "id": "8d6c77c2",
   "metadata": {},
   "outputs": [
    {
     "data": {
      "image/png": "[encoded data removed]",
      "text/plain": [
       "<Figure size 720x360 with 1 Axes>"
      ]
     },
     "metadata": {},
     "output_type": "display_data"
    }
   ],
   "source": [
    "ax = df['Rating'].value_counts().sort_index() \\\n",
    "    .plot(kind='bar',\n",
    "          title='Count of Reviews by Rating',\n",
    "          figsize=(10, 5))\n",
    "ax.set_xlabel('Review Stars')\n",
    "plt.show()"
   ]
  },
  {
   "cell_type": "code",
   "execution_count": 208,
   "id": "62dbc01d",
   "metadata": {},
   "outputs": [
    {
     "name": "stdout",
     "output_type": "stream",
     "text": [
      "The overall feel of the place is very nice. They have most of what you need for the house and more. The coffee shop was very pleasant and had a great menu. The 3 stars are because of the overall price. Just too expensive for this area.\n"
     ]
    }
   ],
   "source": [
    "comment = df['Comment'].reset_index(drop=True)\n",
    "comment1 = df['Comment'][265]\n",
    "print(comment1)"
   ]
  },
  {
   "cell_type": "code",
   "execution_count": 209,
   "id": "c895d9ea",
   "metadata": {},
   "outputs": [
    {
     "data": {
      "text/plain": [
       "['The', 'overall', 'feel', 'of', 'the', 'place', 'is', 'very', 'nice', '.']"
      ]
     },
     "execution_count": 209,
     "metadata": {},
     "output_type": "execute_result"
    }
   ],
   "source": [
    "tokens = nltk.word_tokenize(comment1)\n",
    "tokens[:10]"
   ]
  },
  {
   "cell_type": "code",
   "execution_count": 210,
   "id": "613b0300",
   "metadata": {},
   "outputs": [
    {
     "data": {
      "text/plain": [
       "[('The', 'DT'),\n",
       " ('overall', 'JJ'),\n",
       " ('feel', 'NN'),\n",
       " ('of', 'IN'),\n",
       " ('the', 'DT'),\n",
       " ('place', 'NN'),\n",
       " ('is', 'VBZ'),\n",
       " ('very', 'RB'),\n",
       " ('nice', 'JJ'),\n",
       " ('.', '.')]"
      ]
     },
     "execution_count": 210,
     "metadata": {},
     "output_type": "execute_result"
    }
   ],
   "source": [
    "tagged = nltk.pos_tag(tokens)\n",
    "tagged[:10]"
   ]
  },
  {
   "cell_type": "code",
   "execution_count": 211,
   "id": "f0e290ea",
   "metadata": {},
   "outputs": [
    {
     "name": "stdout",
     "output_type": "stream",
     "text": [
      "(S\n",
      "  The/DT\n",
      "  overall/JJ\n",
      "  feel/NN\n",
      "  of/IN\n",
      "  the/DT\n",
      "  place/NN\n",
      "  is/VBZ\n",
      "  very/RB\n",
      "  nice/JJ\n",
      "  ./.\n",
      "  They/PRP\n",
      "  have/VBP\n",
      "  most/JJS\n",
      "  of/IN\n",
      "  what/WP\n",
      "  you/PRP\n",
      "  need/VBP\n",
      "  for/IN\n",
      "  the/DT\n",
      "  house/NN\n",
      "  and/CC\n",
      "  more/JJR\n",
      "  ./.\n",
      "  The/DT\n",
      "  coffee/NN\n",
      "  shop/NN\n",
      "  was/VBD\n",
      "  very/RB\n",
      "  pleasant/JJ\n",
      "  and/CC\n",
      "  had/VBD\n",
      "  a/DT\n",
      "  great/JJ\n",
      "  menu/NN\n",
      "  ./.\n",
      "  The/DT\n",
      "  3/CD\n",
      "  stars/NNS\n",
      "  are/VBP\n",
      "  because/IN\n",
      "  of/IN\n",
      "  the/DT\n",
      "  overall/JJ\n",
      "  price/NN\n",
      "  ./.\n",
      "  Just/NNP\n",
      "  too/RB\n",
      "  expensive/JJ\n",
      "  for/IN\n",
      "  this/DT\n",
      "  area/NN\n",
      "  ./.)\n"
     ]
    }
   ],
   "source": [
    "entities = nltk.chunk.ne_chunk(tagged)\n",
    "entities.pprint()"
   ]
  },
  {
   "cell_type": "code",
   "execution_count": 212,
   "id": "07d3979c",
   "metadata": {},
   "outputs": [],
   "source": [
    "#VADER SENTIMENT SCORING\n",
    "from nltk.sentiment import SentimentIntensityAnalyzer\n",
    "from tqdm.notebook import tqdm\n",
    "\n",
    "sia = SentimentIntensityAnalyzer()"
   ]
  },
  {
   "cell_type": "code",
   "execution_count": 213,
   "id": "faa193f5",
   "metadata": {},
   "outputs": [
    {
     "data": {
      "text/html": [
       "<div>\n",
       "<style scoped>\n",
       "    .dataframe tbody tr th:only-of-type {\n",
       "        vertical-align: middle;\n",
       "    }\n",
       "\n",
       "    .dataframe tbody tr th {\n",
       "        vertical-align: top;\n",
       "    }\n",
       "\n",
       "    .dataframe thead th {\n",
       "        text-align: right;\n",
       "    }\n",
       "</style>\n",
       "<table border=\"1\" class=\"dataframe\">\n",
       "  <thead>\n",
       "    <tr style=\"text-align: right;\">\n",
       "      <th></th>\n",
       "      <th>New_ID</th>\n",
       "      <th>Branch</th>\n",
       "      <th>Review Date</th>\n",
       "      <th>Rating</th>\n",
       "      <th>Comment</th>\n",
       "    </tr>\n",
       "  </thead>\n",
       "  <tbody>\n",
       "    <tr>\n",
       "      <th>0</th>\n",
       "      <td>1</td>\n",
       "      <td>Bacolod</td>\n",
       "      <td>September</td>\n",
       "      <td>5</td>\n",
       "      <td>Very nice furnitures display</td>\n",
       "    </tr>\n",
       "    <tr>\n",
       "      <th>1</th>\n",
       "      <td>2</td>\n",
       "      <td>Bacolod</td>\n",
       "      <td>September</td>\n",
       "      <td>5</td>\n",
       "      <td>Relatively expensive</td>\n",
       "    </tr>\n",
       "    <tr>\n",
       "      <th>2</th>\n",
       "      <td>3</td>\n",
       "      <td>Bacolod</td>\n",
       "      <td>September</td>\n",
       "      <td>1</td>\n",
       "      <td>Loving the butter from France hope to get more...</td>\n",
       "    </tr>\n",
       "    <tr>\n",
       "      <th>3</th>\n",
       "      <td>4</td>\n",
       "      <td>Bacolod</td>\n",
       "      <td>September</td>\n",
       "      <td>1</td>\n",
       "      <td>Their price is misleading..the ones that have ...</td>\n",
       "    </tr>\n",
       "    <tr>\n",
       "      <th>4</th>\n",
       "      <td>5</td>\n",
       "      <td>Bacolod</td>\n",
       "      <td>September</td>\n",
       "      <td>5</td>\n",
       "      <td>Store is immaculate. Tip top customer service....</td>\n",
       "    </tr>\n",
       "    <tr>\n",
       "      <th>...</th>\n",
       "      <td>...</td>\n",
       "      <td>...</td>\n",
       "      <td>...</td>\n",
       "      <td>...</td>\n",
       "      <td>...</td>\n",
       "    </tr>\n",
       "    <tr>\n",
       "      <th>261</th>\n",
       "      <td>262</td>\n",
       "      <td>Tanza</td>\n",
       "      <td>December</td>\n",
       "      <td>4</td>\n",
       "      <td>Need additional foot traffic, the Mall is stil...</td>\n",
       "    </tr>\n",
       "    <tr>\n",
       "      <th>262</th>\n",
       "      <td>263</td>\n",
       "      <td>Tanza</td>\n",
       "      <td>December</td>\n",
       "      <td>4</td>\n",
       "      <td>Everything is here</td>\n",
       "    </tr>\n",
       "    <tr>\n",
       "      <th>263</th>\n",
       "      <td>264</td>\n",
       "      <td>Tierra Nevada</td>\n",
       "      <td>October</td>\n",
       "      <td>5</td>\n",
       "      <td>I love this store. I had challenges looking fo...</td>\n",
       "    </tr>\n",
       "    <tr>\n",
       "      <th>264</th>\n",
       "      <td>265</td>\n",
       "      <td>WCC</td>\n",
       "      <td>October</td>\n",
       "      <td>2</td>\n",
       "      <td>They keep playing the ALL TV jingle nonstop ad...</td>\n",
       "    </tr>\n",
       "    <tr>\n",
       "      <th>265</th>\n",
       "      <td>266</td>\n",
       "      <td>WCC</td>\n",
       "      <td>December</td>\n",
       "      <td>2</td>\n",
       "      <td>It's ok to shop here because it's hardly ever ...</td>\n",
       "    </tr>\n",
       "  </tbody>\n",
       "</table>\n",
       "<p>266 rows × 5 columns</p>\n",
       "</div>"
      ],
      "text/plain": [
       "     New_ID        Branch  Review Date  Rating  \\\n",
       "0         1        Bacolod   September       5   \n",
       "1         2        Bacolod   September       5   \n",
       "2         3        Bacolod   September       1   \n",
       "3         4        Bacolod   September       1   \n",
       "4         5        Bacolod   September       5   \n",
       "..      ...            ...         ...     ...   \n",
       "261     262          Tanza    December       4   \n",
       "262     263          Tanza    December       4   \n",
       "263     264  Tierra Nevada     October       5   \n",
       "264     265            WCC     October       2   \n",
       "265     266            WCC    December       2   \n",
       "\n",
       "                                               Comment  \n",
       "0                         Very nice furnitures display  \n",
       "1                                 Relatively expensive  \n",
       "2    Loving the butter from France hope to get more...  \n",
       "3    Their price is misleading..the ones that have ...  \n",
       "4    Store is immaculate. Tip top customer service....  \n",
       "..                                                 ...  \n",
       "261  Need additional foot traffic, the Mall is stil...  \n",
       "262                                Everything is here   \n",
       "263  I love this store. I had challenges looking fo...  \n",
       "264  They keep playing the ALL TV jingle nonstop ad...  \n",
       "265  It's ok to shop here because it's hardly ever ...  \n",
       "\n",
       "[266 rows x 5 columns]"
      ]
     },
     "execution_count": 213,
     "metadata": {},
     "output_type": "execute_result"
    }
   ],
   "source": [
    "df2 = df2.reset_index()\n",
    "df2 = df2.rename(columns={\"index\":\"New_ID\"})\n",
    "df2['New_ID'] = df2.index + 1\n",
    "df2"
   ]
  },
  {
   "cell_type": "code",
   "execution_count": 214,
   "id": "c441c249",
   "metadata": {},
   "outputs": [
    {
     "data": {
      "application/vnd.jupyter.widget-view+json": {
       "model_id": "ba9b200349244bd883dc683e4875c50b",
       "version_major": 2,
       "version_minor": 0
      },
      "text/plain": [
       "  0%|          | 0/266 [00:00<?, ?it/s]"
      ]
     },
     "metadata": {},
     "output_type": "display_data"
    }
   ],
   "source": [
    "res = {}\n",
    "for i, row in tqdm(df2.iterrows(), total=len(df2)):\n",
    "    text = row['Comment']\n",
    "    myid = row['New_ID']\n",
    "    res[myid] = sia.polarity_scores(text)"
   ]
  },
  {
   "cell_type": "code",
   "execution_count": 215,
   "id": "7a1641fe",
   "metadata": {},
   "outputs": [],
   "source": [
    "vaders = pd.DataFrame(res).T\n",
    "vaders = vaders.reset_index().rename(columns={'index': 'New_ID'})\n",
    "vaders = vaders.merge(df2,how='left')\n",
    "vaders.to_csv('vaders_result.csv' ,index = False)"
   ]
  },
  {
   "cell_type": "code",
   "execution_count": 216,
   "id": "a45dd290",
   "metadata": {},
   "outputs": [],
   "source": [
    "from transformers import AutoTokenizer\n",
    "from transformers import AutoModelForSequenceClassification\n",
    "from scipy.special import softmax\n",
    "MODEL = f\"cardiffnlp/twitter-roberta-base-sentiment\"\n",
    "tokenizer = AutoTokenizer.from_pretrained(MODEL)\n",
    "model = AutoModelForSequenceClassification.from_pretrained(MODEL)"
   ]
  },
  {
   "cell_type": "code",
   "execution_count": 217,
   "id": "af943a19",
   "metadata": {},
   "outputs": [
    {
     "name": "stdout",
     "output_type": "stream",
     "text": [
      "{'roberta_neg': 0.0039922767, 'roberta_neu': 0.018776344, 'roberta_pos': 0.9772315}\n"
     ]
    }
   ],
   "source": [
    "text = tokenizer(comment1, return_tensors='pt')\n",
    "output = model(**text)\n",
    "scores = output[0][0].detach().numpy()\n",
    "result = softmax(scores)\n",
    "result_dict = {\n",
    "    'Negative' : result[0],\n",
    "    'Neutral' : result[1],\n",
    "    'Positive' : result[2]\n",
    "}\n",
    "print(scores_dict)"
   ]
  },
  {
   "cell_type": "code",
   "execution_count": 218,
   "id": "5b685fa7",
   "metadata": {},
   "outputs": [
    {
     "name": "stdout",
     "output_type": "stream",
     "text": [
      "The overall feel of the place is very nice. They have most of what you need for the house and more. The coffee shop was very pleasant and had a great menu. The 3 stars are because of the overall price. Just too expensive for this area.\n"
     ]
    },
    {
     "data": {
      "text/plain": [
       "{'neg': 0.0, 'neu': 0.796, 'pos': 0.204, 'compound': 0.8953}"
      ]
     },
     "execution_count": 218,
     "metadata": {},
     "output_type": "execute_result"
    }
   ],
   "source": [
    "print(comment1)\n",
    "sia.polarity_scores(comment1)"
   ]
  },
  {
   "cell_type": "code",
   "execution_count": 219,
   "id": "9a9b415d",
   "metadata": {},
   "outputs": [],
   "source": [
    "def polarity_scores_roberta(df2):\n",
    "    encoded_text = tokenizer(df2, return_tensors='pt')\n",
    "    output = model(**encoded_text)\n",
    "    scores = output[0][0].detach().numpy()\n",
    "    scores = softmax(scores)\n",
    "    scores_dict = {\n",
    "        'Negative' : scores[0],\n",
    "        'Neutral' : scores[1],\n",
    "        'Positive' : scores[2]\n",
    "    }\n",
    "    return scores_dict"
   ]
  },
  {
   "cell_type": "code",
   "execution_count": 220,
   "id": "0e4b5d4c",
   "metadata": {},
   "outputs": [
    {
     "data": {
      "application/vnd.jupyter.widget-view+json": {
       "model_id": "1501f5916218479b974f844b4b44d34f",
       "version_major": 2,
       "version_minor": 0
      },
      "text/plain": [
       "  0%|          | 0/266 [00:00<?, ?it/s]"
      ]
     },
     "metadata": {},
     "output_type": "display_data"
    }
   ],
   "source": [
    "res1 = {}\n",
    "for i, row in tqdm(df2.iterrows(), total=len(df2)):\n",
    "    text = row['Comment']\n",
    "    myid = row['New_ID']\n",
    "    roberta_result = polarity_scores_roberta(text)\n",
    "    both = {**roberta_result}\n",
    "    res1[myid] = both\n",
    "     "
   ]
  },
  {
   "cell_type": "code",
   "execution_count": 221,
   "id": "b6aa2f5e",
   "metadata": {},
   "outputs": [],
   "source": [
    "roberta = pd.DataFrame(res1).T\n",
    "roberta = roberta.reset_index().rename(columns={'index': 'New_ID'})\n",
    "roberta = roberta.merge(df2,how='left')\n",
    "roberta.to_csv('roberta_result.csv' ,index = False)"
   ]
  },
  {
   "cell_type": "code",
   "execution_count": 222,
   "id": "c2d9172f",
   "metadata": {},
   "outputs": [
    {
     "data": {
      "text/html": [
       "<div>\n",
       "<style scoped>\n",
       "    .dataframe tbody tr th:only-of-type {\n",
       "        vertical-align: middle;\n",
       "    }\n",
       "\n",
       "    .dataframe tbody tr th {\n",
       "        vertical-align: top;\n",
       "    }\n",
       "\n",
       "    .dataframe thead th {\n",
       "        text-align: right;\n",
       "    }\n",
       "</style>\n",
       "<table border=\"1\" class=\"dataframe\">\n",
       "  <thead>\n",
       "    <tr style=\"text-align: right;\">\n",
       "      <th></th>\n",
       "      <th>New_ID</th>\n",
       "      <th>neg</th>\n",
       "      <th>neu</th>\n",
       "      <th>pos</th>\n",
       "      <th>compound</th>\n",
       "      <th>Branch</th>\n",
       "      <th>Review Date</th>\n",
       "      <th>Rating</th>\n",
       "      <th>Comment</th>\n",
       "    </tr>\n",
       "  </thead>\n",
       "  <tbody>\n",
       "    <tr>\n",
       "      <th>0</th>\n",
       "      <td>1</td>\n",
       "      <td>0.000</td>\n",
       "      <td>0.492</td>\n",
       "      <td>0.508</td>\n",
       "      <td>0.4754</td>\n",
       "      <td>Bacolod</td>\n",
       "      <td>September</td>\n",
       "      <td>5</td>\n",
       "      <td>Very nice furnitures display</td>\n",
       "    </tr>\n",
       "    <tr>\n",
       "      <th>1</th>\n",
       "      <td>2</td>\n",
       "      <td>0.000</td>\n",
       "      <td>1.000</td>\n",
       "      <td>0.000</td>\n",
       "      <td>0.0000</td>\n",
       "      <td>Bacolod</td>\n",
       "      <td>September</td>\n",
       "      <td>5</td>\n",
       "      <td>Relatively expensive</td>\n",
       "    </tr>\n",
       "    <tr>\n",
       "      <th>2</th>\n",
       "      <td>3</td>\n",
       "      <td>0.000</td>\n",
       "      <td>0.465</td>\n",
       "      <td>0.535</td>\n",
       "      <td>0.9300</td>\n",
       "      <td>Bacolod</td>\n",
       "      <td>September</td>\n",
       "      <td>1</td>\n",
       "      <td>Loving the butter from France hope to get more...</td>\n",
       "    </tr>\n",
       "    <tr>\n",
       "      <th>3</th>\n",
       "      <td>4</td>\n",
       "      <td>0.000</td>\n",
       "      <td>0.939</td>\n",
       "      <td>0.061</td>\n",
       "      <td>0.4497</td>\n",
       "      <td>Bacolod</td>\n",
       "      <td>September</td>\n",
       "      <td>1</td>\n",
       "      <td>Their price is misleading..the ones that have ...</td>\n",
       "    </tr>\n",
       "    <tr>\n",
       "      <th>4</th>\n",
       "      <td>5</td>\n",
       "      <td>0.092</td>\n",
       "      <td>0.833</td>\n",
       "      <td>0.075</td>\n",
       "      <td>-0.1027</td>\n",
       "      <td>Bacolod</td>\n",
       "      <td>September</td>\n",
       "      <td>5</td>\n",
       "      <td>Store is immaculate. Tip top customer service....</td>\n",
       "    </tr>\n",
       "    <tr>\n",
       "      <th>...</th>\n",
       "      <td>...</td>\n",
       "      <td>...</td>\n",
       "      <td>...</td>\n",
       "      <td>...</td>\n",
       "      <td>...</td>\n",
       "      <td>...</td>\n",
       "      <td>...</td>\n",
       "      <td>...</td>\n",
       "      <td>...</td>\n",
       "    </tr>\n",
       "    <tr>\n",
       "      <th>261</th>\n",
       "      <td>262</td>\n",
       "      <td>0.000</td>\n",
       "      <td>0.672</td>\n",
       "      <td>0.328</td>\n",
       "      <td>0.5994</td>\n",
       "      <td>Tanza</td>\n",
       "      <td>December</td>\n",
       "      <td>4</td>\n",
       "      <td>Need additional foot traffic, the Mall is stil...</td>\n",
       "    </tr>\n",
       "    <tr>\n",
       "      <th>262</th>\n",
       "      <td>263</td>\n",
       "      <td>0.000</td>\n",
       "      <td>1.000</td>\n",
       "      <td>0.000</td>\n",
       "      <td>0.0000</td>\n",
       "      <td>Tanza</td>\n",
       "      <td>December</td>\n",
       "      <td>4</td>\n",
       "      <td>Everything is here</td>\n",
       "    </tr>\n",
       "    <tr>\n",
       "      <th>263</th>\n",
       "      <td>264</td>\n",
       "      <td>0.000</td>\n",
       "      <td>0.704</td>\n",
       "      <td>0.296</td>\n",
       "      <td>0.7906</td>\n",
       "      <td>Tierra Nevada</td>\n",
       "      <td>October</td>\n",
       "      <td>5</td>\n",
       "      <td>I love this store. I had challenges looking fo...</td>\n",
       "    </tr>\n",
       "    <tr>\n",
       "      <th>264</th>\n",
       "      <td>265</td>\n",
       "      <td>0.000</td>\n",
       "      <td>0.833</td>\n",
       "      <td>0.167</td>\n",
       "      <td>0.2023</td>\n",
       "      <td>WCC</td>\n",
       "      <td>October</td>\n",
       "      <td>2</td>\n",
       "      <td>They keep playing the ALL TV jingle nonstop ad...</td>\n",
       "    </tr>\n",
       "    <tr>\n",
       "      <th>265</th>\n",
       "      <td>266</td>\n",
       "      <td>0.000</td>\n",
       "      <td>0.804</td>\n",
       "      <td>0.196</td>\n",
       "      <td>0.2960</td>\n",
       "      <td>WCC</td>\n",
       "      <td>December</td>\n",
       "      <td>2</td>\n",
       "      <td>It's ok to shop here because it's hardly ever ...</td>\n",
       "    </tr>\n",
       "  </tbody>\n",
       "</table>\n",
       "<p>266 rows × 9 columns</p>\n",
       "</div>"
      ],
      "text/plain": [
       "     New_ID    neg    neu    pos  compound        Branch  Review Date  Rating  \\\n",
       "0         1  0.000  0.492  0.508    0.4754        Bacolod   September       5   \n",
       "1         2  0.000  1.000  0.000    0.0000        Bacolod   September       5   \n",
       "2         3  0.000  0.465  0.535    0.9300        Bacolod   September       1   \n",
       "3         4  0.000  0.939  0.061    0.4497        Bacolod   September       1   \n",
       "4         5  0.092  0.833  0.075   -0.1027        Bacolod   September       5   \n",
       "..      ...    ...    ...    ...       ...            ...         ...     ...   \n",
       "261     262  0.000  0.672  0.328    0.5994          Tanza    December       4   \n",
       "262     263  0.000  1.000  0.000    0.0000          Tanza    December       4   \n",
       "263     264  0.000  0.704  0.296    0.7906  Tierra Nevada     October       5   \n",
       "264     265  0.000  0.833  0.167    0.2023            WCC     October       2   \n",
       "265     266  0.000  0.804  0.196    0.2960            WCC    December       2   \n",
       "\n",
       "                                               Comment  \n",
       "0                         Very nice furnitures display  \n",
       "1                                 Relatively expensive  \n",
       "2    Loving the butter from France hope to get more...  \n",
       "3    Their price is misleading..the ones that have ...  \n",
       "4    Store is immaculate. Tip top customer service....  \n",
       "..                                                 ...  \n",
       "261  Need additional foot traffic, the Mall is stil...  \n",
       "262                                Everything is here   \n",
       "263  I love this store. I had challenges looking fo...  \n",
       "264  They keep playing the ALL TV jingle nonstop ad...  \n",
       "265  It's ok to shop here because it's hardly ever ...  \n",
       "\n",
       "[266 rows x 9 columns]"
      ]
     },
     "execution_count": 222,
     "metadata": {},
     "output_type": "execute_result"
    }
   ],
   "source": [
    "vaders"
   ]
  },
  {
   "cell_type": "code",
   "execution_count": 223,
   "id": "4c6057b2",
   "metadata": {},
   "outputs": [],
   "source": [
    "#roberta = roberta.merge(df,how='right')"
   ]
  },
  {
   "cell_type": "code",
   "execution_count": 224,
   "id": "4fdb4fd9",
   "metadata": {},
   "outputs": [],
   "source": [
    "#roberta.to_csv('roberta_result.csv' ,index = False)"
   ]
  },
  {
   "cell_type": "code",
   "execution_count": null,
   "id": "46c2f6ca",
   "metadata": {},
   "outputs": [],
   "source": []
  }
 ],
 "metadata": {
  "kernelspec": {
   "display_name": "Python 3 (ipykernel)",
   "language": "python",
   "name": "python3"
  },
  "language_info": {
   "codemirror_mode": {
    "name": "ipython",
    "version": 3
   },
   "file_extension": ".py",
   "mimetype": "text/x-python",
   "name": "python",
   "nbconvert_exporter": "python",
   "pygments_lexer": "ipython3",
   "version": "3.9.7"
  }
 },
 "nbformat": 4,
 "nbformat_minor": 5
}
